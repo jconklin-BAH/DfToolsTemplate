{
 "cells": [
  {
   "cell_type": "code",
   "execution_count": 12,
   "metadata": {
    "collapsed": true
   },
   "outputs": [],
   "source": [
    "import pandas as pd\n",
    "import matplotlib.pyplot as plt\n",
    "import numpy\n",
    "from scipy import stats"
   ]
  },
  {
   "cell_type": "code",
   "execution_count": 13,
   "metadata": {
    "collapsed": true
   },
   "outputs": [],
   "source": [
    "data_filepath = 'XXXXXXXXXX'"
   ]
  },
  {
   "cell_type": "code",
   "execution_count": 14,
   "metadata": {
    "collapsed": true
   },
   "outputs": [],
   "source": [
    "data = pd.read_csv(data_filepath)"
   ]
  },
  {
   "cell_type": "code",
   "execution_count": 15,
   "metadata": {
    "collapsed": true
   },
   "outputs": [],
   "source": [
    "def findAndReplace(data, column, find, replace):\n",
    "    index = 0\n",
    "    for value in data[column]:\n",
    "        if value == find:\n",
    "            #print('changing %s at line %d to %s'%(value, index, replace))\n",
    "            data.set_value(index, column, replace)\n",
    "        index += 1 "
   ]
  },
  {
   "cell_type": "code",
   "execution_count": 16,
   "metadata": {
    "collapsed": true
   },
   "outputs": [],
   "source": [
    "def convertStringsToInt(data, column):\n",
    "    index = 0\n",
    "    for value in data[column]:\n",
    "        if type(value) == str:\n",
    "            #print('changing %s %s at line %d to %d %s'%(value, str(type(value)), index, float(value), str(type(float(value)))))\n",
    "            data.set_value(index, column, int(value))\n",
    "        index += 1"
   ]
  },
  {
   "cell_type": "code",
   "execution_count": 17,
   "metadata": {
    "collapsed": true
   },
   "outputs": [],
   "source": [
    "def replacePartOfEach(data, column, toReplace, replaceWith):\n",
    "    index = 0\n",
    "    for value in data[column]:\n",
    "        if type(value) == str:\n",
    "            data.set_value(index, column, value.replace(toReplace, replaceWith))\n",
    "        index += 1"
   ]
  },
  {
   "cell_type": "code",
   "execution_count": 18,
   "metadata": {
    "collapsed": true
   },
   "outputs": [],
   "source": [
    "def removeFromEach(data, column, toRemove):\n",
    "    replacePartOfEach(data, column, toRemove, '')"
   ]
  },
  {
   "cell_type": "code",
   "execution_count": 19,
   "metadata": {
    "collapsed": true
   },
   "outputs": [],
   "source": [
    "contractList=[]\n",
    "#Each item in the list is a Contract object, representing a unique contract from data\n",
    "\n",
    "\n",
    "class Contract:\n",
    "    def __init__(self, contractID, indeces, ogAmt, fndAmt, difAmt):\n",
    "        self.contractNumber = contractID #The unique ID given to each contract in data\n",
    "        self.listOfIndeces = indeces #list of all the indeces at which individual projects within this contract can be found\n",
    "        self.originalAmount = ogAmt  #the original dollar amount for this contract\n",
    "        self.fundedAmount = fndAmt   #the actual dollar amount budgeted for this contract\n",
    "        self.diffBetweenDollars = difAmt #the difference between the actual amount paid and original budget\n",
    "\n",
    "\n",
    "contractDict = {}\n",
    "'''\n",
    "Each key represents an individual contract.\n",
    "Each value represents a list containing all of the indeces\n",
    "    at which an individual project for said contract is stored in the data.\n",
    "This dictionary is used to help populate contractList\n",
    "'''\n",
    "\n",
    "#Organizes data into contractDict with a contract ID for each key and a list of individual projects for each values\n",
    "index = 0\n",
    "for num in data['XXXXXXXXXX']:\n",
    "    if num in contractDict:\n",
    "        contractDict[num].append(index)\n",
    "    else:\n",
    "        contractDict[num] = []\n",
    "        contractDict[num].append(index)\n",
    "    index += 1\n",
    "#Uses contractDict to populate contractList with Contract objects     \n",
    "for key in contractDict:\n",
    "    contractList.append(Contract(key, contractDict[key], data['XXXXXXXXXX'][contractDict[key][0]],\n",
    "                                 data['XXXXXXXXXX'][contractDict[key][0]],\n",
    "                                 data['XXXXXXXXXX'][contractDict[key][0]]))"
   ]
  },
  {
   "cell_type": "code",
   "execution_count": 22,
   "metadata": {
    "collapsed": true,
    "scrolled": true
   },
   "outputs": [],
   "source": [
    "x = range(10)\n",
    "xLabel = 'XXXXXXXXXX'\n",
    "y = range(10)\n",
    "yLabel = 'XXXXXXXXXX'"
   ]
  },
  {
   "cell_type": "code",
   "execution_count": 23,
   "metadata": {},
   "outputs": [
    {
     "data": {
      "text/plain": [
       "(1.0, 0.0)"
      ]
     },
     "execution_count": 23,
     "metadata": {},
     "output_type": "execute_result"
    }
   ],
   "source": [
    "stats.pearsonr(x, y)"
   ]
  },
  {
   "cell_type": "code",
   "execution_count": 25,
   "metadata": {},
   "outputs": [
    {
     "data": {
      "image/png": "[encoded data removed]",
      "text/plain": [
       "<matplotlib.figure.Figure at 0x1b03aa3a908>"
      ]
     },
     "metadata": {},
     "output_type": "display_data"
    }
   ],
   "source": [
    "plt.scatter(x,y,s=10)\n",
    "plt.xlabel(xLabel)\n",
    "plt.ylabel(yLabel)\n",
    "plt.show()"
   ]
  },
  {
   "cell_type": "code",
   "execution_count": null,
   "metadata": {
    "collapsed": true
   },
   "outputs": [],
   "source": []
  }
 ],
 "metadata": {
  "kernelspec": {
   "display_name": "Python 3",
   "language": "python",
   "name": "python3"
  },
  "language_info": {
   "codemirror_mode": {
    "name": "ipython",
    "version": 3
   },
   "file_extension": ".py",
   "mimetype": "text/x-python",
   "name": "python",
   "nbconvert_exporter": "python",
   "pygments_lexer": "ipython3",
   "version": "3.6.1"
  }
 },
 "nbformat": 4,
 "nbformat_minor": 2
}
